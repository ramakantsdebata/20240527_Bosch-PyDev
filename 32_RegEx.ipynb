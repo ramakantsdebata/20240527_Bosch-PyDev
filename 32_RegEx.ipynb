{
 "cells": [
  {
   "cell_type": "markdown",
   "metadata": {},
   "source": [
    "# Objects and Methods"
   ]
  },
  {
   "cell_type": "code",
   "execution_count": null,
   "metadata": {},
   "outputs": [],
   "source": [
    "import re\n",
    "help(re)\n",
    "# https://docs.python.org/3/library/re.html"
   ]
  },
  {
   "cell_type": "code",
   "execution_count": null,
   "metadata": {},
   "outputs": [],
   "source": [
    "dir(re)"
   ]
  },
  {
   "cell_type": "code",
   "execution_count": null,
   "metadata": {},
   "outputs": [],
   "source": [
    "import re\n",
    "string = \"The Euro STOXX 600 index, which tracks all stock markets across Europe including the FTSE, fell by 11.48% - the worst day since it launched in 1998. The panic selling prompted by the coronavirus has wiped £2.7tn off the value of STOXX 600 shares since its all-time peak on 19 February.\""
   ]
  },
  {
   "cell_type": "code",
   "execution_count": null,
   "metadata": {},
   "outputs": [],
   "source": [
    "path=r\"\\User\\temp\\newFile\"\n",
    "print(path)"
   ]
  },
  {
   "cell_type": "code",
   "execution_count": null,
   "metadata": {},
   "outputs": [],
   "source": [
    "# Compile\n",
    "s=r\"\\d{4}\"\n",
    "t = re.compile(s)\n",
    "print(type(t), t)\n",
    "result = re.findall(t, string)\n",
    "result"
   ]
  },
  {
   "cell_type": "code",
   "execution_count": null,
   "metadata": {},
   "outputs": [],
   "source": [
    "# Compile\n",
    "s=r\"\\d{4}\"\n",
    "result = re.search(s, string)\n",
    "print(type(result))\n",
    "print(result)"
   ]
  },
  {
   "cell_type": "code",
   "execution_count": null,
   "metadata": {},
   "outputs": [],
   "source": [
    "# SEARCH - Finds the first occurance and stops\n",
    "# Returns - On success - Match Object\n",
    "#           On failure - None\n",
    "s=r\"\\w{2}\"\n",
    "re.search(s, string)"
   ]
  },
  {
   "cell_type": "code",
   "execution_count": null,
   "metadata": {},
   "outputs": [],
   "source": [
    "# FINDALL - Finds all the occurances\n",
    "s=r\"\\w{2}\"\n",
    "res = re.findall(s, string)\n",
    "print(type(res))"
   ]
  },
  {
   "cell_type": "code",
   "execution_count": null,
   "metadata": {},
   "outputs": [],
   "source": [
    "# MATCH - Like search, but matches only from the start of the string. If no match, return None\n",
    "re.search(r\"\\w{4}\", string)\n",
    "res = re.match(r\"\\w{4}\", string)\n",
    "print(type(res), res)\n",
    "re.match(r\"\\w{2}\", string)\n"
   ]
  },
  {
   "cell_type": "code",
   "execution_count": null,
   "metadata": {},
   "outputs": [],
   "source": [
    "# FULLMATCH - matches the entire string, else fails and returns None\n",
    "re.fullmatch(r\"\\w{2}\", string)"
   ]
  },
  {
   "cell_type": "code",
   "execution_count": null,
   "metadata": {},
   "outputs": [],
   "source": [
    "len(string)"
   ]
  },
  {
   "cell_type": "code",
   "execution_count": null,
   "metadata": {},
   "outputs": [],
   "source": [
    "#$ . (dot) - Matches any character in the text, apart from newline\n",
    "re.fullmatch(r\".{285}\", string)"
   ]
  },
  {
   "cell_type": "code",
   "execution_count": null,
   "metadata": {},
   "outputs": [],
   "source": [
    "re.fullmatch(r\"\\w{285}\", string)"
   ]
  },
  {
   "cell_type": "code",
   "execution_count": null,
   "metadata": {},
   "outputs": [],
   "source": [
    "# Split\n",
    "## String split\n",
    "\n",
    "result = string.split(' ')\n",
    "print(type(result), result)"
   ]
  },
  {
   "cell_type": "code",
   "execution_count": null,
   "metadata": {},
   "outputs": [],
   "source": [
    "res = re.split(r\"\\s\", string)\n",
    "print(type(res), res)"
   ]
  },
  {
   "cell_type": "code",
   "execution_count": null,
   "metadata": {},
   "outputs": [],
   "source": [
    "res = re.split(r\"\\d{2}\", string)\n",
    "print(type(res), res)"
   ]
  },
  {
   "cell_type": "code",
   "execution_count": null,
   "metadata": {},
   "outputs": [],
   "source": [
    "# sub() -  Replace a pattern matched with a provided string\n",
    "res = re.sub(r\"[A-Z]{2,}\", \"INDEX\", string, 2)\n",
    "print(type(res), res)"
   ]
  },
  {
   "cell_type": "code",
   "execution_count": null,
   "metadata": {},
   "outputs": [],
   "source": [
    "# subn() - returns a tuple;(1: mod string, 2: no. of replacements)\n",
    "res = re.subn(r\"[A-Z]{2,}\", \"INDEX\", string)\n",
    "print(type(res), res)"
   ]
  },
  {
   "cell_type": "code",
   "execution_count": null,
   "metadata": {},
   "outputs": [],
   "source": [
    "# Group, Groups\n",
    "# groups() - tuple of all matches\n",
    "# group() ==>  group(0)\n",
    "# group(1)\n",
    "# group(2)\n",
    "\n",
    "res = re.search(r\".+\\s(.+ex).+(\\d\\d\\s.+).\", string)\n",
    "res, res.groups(), res.group(1), res.group(2)"
   ]
  },
  {
   "cell_type": "code",
   "execution_count": null,
   "metadata": {},
   "outputs": [],
   "source": [
    "res.group(), res.group(0)"
   ]
  },
  {
   "cell_type": "code",
   "execution_count": null,
   "metadata": {},
   "outputs": [],
   "source": [
    "res.group(1, 2)"
   ]
  },
  {
   "cell_type": "code",
   "execution_count": null,
   "metadata": {},
   "outputs": [],
   "source": [
    "# SPAN, START, END\n",
    "res = re.search(r\".+\\s(.+ex).+(\\d\\d\\s.+).\", string)\n",
    "res.start(1), res.end(1)"
   ]
  },
  {
   "cell_type": "code",
   "execution_count": null,
   "metadata": {},
   "outputs": [],
   "source": [
    "string[19:24]"
   ]
  },
  {
   "cell_type": "code",
   "execution_count": null,
   "metadata": {},
   "outputs": [],
   "source": [
    "res.start(2), res.end(2)"
   ]
  },
  {
   "cell_type": "code",
   "execution_count": null,
   "metadata": {},
   "outputs": [],
   "source": [
    "string[273:284]"
   ]
  },
  {
   "cell_type": "code",
   "execution_count": null,
   "metadata": {},
   "outputs": [],
   "source": [
    "res.span(1), res.span(2)"
   ]
  },
  {
   "cell_type": "markdown",
   "metadata": {},
   "source": [
    "## Optional flags"
   ]
  },
  {
   "cell_type": "code",
   "execution_count": null,
   "metadata": {},
   "outputs": [],
   "source": [
    "# re.I - ignorecase\n",
    "# re.M - Multiline\n",
    "# re.S - DotAll\n",
    "# re.X - Verbose\n",
    "# flags = re.I | re.M | re.S"
   ]
  },
  {
   "cell_type": "code",
   "execution_count": null,
   "metadata": {},
   "outputs": [],
   "source": [
    "import re\n",
    "\n",
    "string2 = '''The Euro STOXX 600 index, which tracks all stock markets across Europe including the FTSE, \n",
    "fell by 11.48% – the worst day since it launched in 1998. \n",
    "The panic selling prompted by the coronavirus \n",
    "has wiped £2.7tn off the value of STOXX 600 shares since its all-time peak on 19 February.'''\n",
    "\n",
    "re.findall(r\"the\", string)"
   ]
  },
  {
   "cell_type": "code",
   "execution_count": null,
   "metadata": {},
   "outputs": [],
   "source": [
    "re.findall(r\"the\", string, re.I)"
   ]
  },
  {
   "cell_type": "code",
   "execution_count": null,
   "metadata": {},
   "outputs": [],
   "source": [
    "re.findall(r\"^The\", string2)"
   ]
  },
  {
   "cell_type": "code",
   "execution_count": null,
   "metadata": {},
   "outputs": [],
   "source": [
    "re.findall(r\"^The\", string2, re.M)"
   ]
  },
  {
   "cell_type": "code",
   "execution_count": null,
   "metadata": {},
   "outputs": [],
   "source": [
    "re.findall(r\".+\", string)"
   ]
  },
  {
   "cell_type": "code",
   "execution_count": null,
   "metadata": {},
   "outputs": [],
   "source": [
    "res = re.findall(r\".+\", string2)\n",
    "len(res), res"
   ]
  },
  {
   "cell_type": "code",
   "execution_count": null,
   "metadata": {},
   "outputs": [],
   "source": [
    "res = re.findall(r\".+\", string2, re.S)\n",
    "len(res), res"
   ]
  },
  {
   "cell_type": "code",
   "execution_count": null,
   "metadata": {},
   "outputs": [],
   "source": [
    "res = re.search(r\".+\\s(.+ex).+(\\d\\d\\s.+).\", string)\n",
    "res.groups()"
   ]
  },
  {
   "cell_type": "code",
   "execution_count": null,
   "metadata": {},
   "outputs": [],
   "source": [
    "# Steps:\n",
    "# 1. Change the poattern string to a multiline string\n",
    "# 2. Add the flag re.X\n",
    "# 3. Breakdown the pattern and add comments\n",
    "\n",
    "res = re.search(r'''.+\\s #Beginning of the string, that we don't want\n",
    "                (.+ex)  # Any word ending with 'ex'\n",
    "                .+ # Every character in between the patterns/groups we are interested\n",
    "                (\\d\\d\\s.+) # To capture the date at the end, 19 February\n",
    "                . # Last character, probably a punctuation''', string, re.X)\n",
    "res.groups()"
   ]
  },
  {
   "cell_type": "markdown",
   "metadata": {},
   "source": [
    "## Meta characters"
   ]
  },
  {
   "cell_type": "code",
   "execution_count": null,
   "metadata": {},
   "outputs": [],
   "source": [
    "# . - any character, other than newline\n",
    "# ^ - Beginnning of the line, not string. More obvious if using the re.M\n",
    "# $ - End of the line, not string."
   ]
  },
  {
   "cell_type": "code",
   "execution_count": null,
   "metadata": {},
   "outputs": [],
   "source": [
    "# * - 0 or more occurances\n",
    "re.findall(r\"\\d\\d\\d*\", string) # Greedy pattern"
   ]
  },
  {
   "cell_type": "code",
   "execution_count": null,
   "metadata": {},
   "outputs": [],
   "source": [
    "# + - 1 or more occurances\n",
    "re.findall(r\"\\d\\d\\d+\", string) # Greedy pattern"
   ]
  },
  {
   "cell_type": "code",
   "execution_count": null,
   "metadata": {},
   "outputs": [],
   "source": [
    "# ? - 0 or 1 occurances\n",
    "re.findall(r\"\\d\\d\\d?\", string) # Non-Greedy pattern"
   ]
  },
  {
   "cell_type": "code",
   "execution_count": null,
   "metadata": {},
   "outputs": [],
   "source": [
    "# Non greedy searches\n",
    "res1 = re.findall(r\"\\d\\d\\d*\", string)\n",
    "res2 = re.findall(r\"\\d\\d\\d*?\", string)\n",
    "res3 = re.findall(r\"\\d\\d\\d+\", string)\n",
    "res4 = re.findall(r\"\\d\\d\\d+?\", string)\n",
    "\n",
    "print(res1, res2, res3, res4, sep='\\n')"
   ]
  },
  {
   "cell_type": "code",
   "execution_count": null,
   "metadata": {},
   "outputs": [],
   "source": [
    "res1 = re.findall(r\"\\d\\d\\d?\", string)\n",
    "res2 = re.findall(r\"\\d\\d\\d??\", string)\n",
    "print(res1, res2, sep='\\n')"
   ]
  },
  {
   "cell_type": "code",
   "execution_count": null,
   "metadata": {},
   "outputs": [],
   "source": [
    "# Backslash \\\n",
    "# 1. denotes a special sequence\n",
    "# 2. escape special characters\n",
    "\n",
    "res = re.findall(r\".\", string)\n",
    "print(res)\n",
    "res = re.findall(r\"\\.\", string)\n",
    "print(res)"
   ]
  },
  {
   "cell_type": "code",
   "execution_count": null,
   "metadata": {},
   "outputs": [],
   "source": [
    "# Square brackets []\n",
    "# [a-z]  [A-Z] [0-9] [a-zA-Z] [aeiou]\n",
    "res = re.findall(r\"[aeiou]\", string)\n",
    "print(res)\n",
    "print(set(res))"
   ]
  },
  {
   "cell_type": "code",
   "execution_count": null,
   "metadata": {},
   "outputs": [],
   "source": [
    "# Whitespace characters\n",
    "# space\n",
    "# line-feed / newline (\\n)\n",
    "# tab (\\t)\n",
    "# vertical tab (\\v)\n",
    "# formfeed (\\f)\n",
    "# carraige return (\\r)\n",
    "\n",
    "res = re.findall(r\"[ \\n\\t\\v\\f\\r]\", string2)\n",
    "print(res)\n",
    "\n",
    "res = re.findall(r\"[^ \\n\\t\\v\\f\\r]\", string2)\n",
    "print(res)"
   ]
  },
  {
   "cell_type": "code",
   "execution_count": null,
   "metadata": {},
   "outputs": [],
   "source": [
    "# {4} {4,} {4, 8}"
   ]
  },
  {
   "cell_type": "code",
   "execution_count": null,
   "metadata": {},
   "outputs": [],
   "source": [
    "# PIPES\n",
    "# for given match patterns: A, B, C\n",
    "# if we want the match to succeed for a match with any one of the three\n",
    "# A | B | C"
   ]
  },
  {
   "cell_type": "code",
   "execution_count": null,
   "metadata": {},
   "outputs": [],
   "source": [
    "# Beg and End of string, rather than line\n",
    "# \\A - Beginnning        \\Z - End"
   ]
  },
  {
   "cell_type": "code",
   "execution_count": null,
   "metadata": {},
   "outputs": [],
   "source": [
    "# Word - collectioon of consequetive alphanumeric characters\n",
    "# \\b - word boundary\n",
    "'''\n",
    "This is\n",
    "a\n",
    "string\n",
    "'''\n",
    "\n",
    "# \\B - Opposite of a word boundary"
   ]
  },
  {
   "cell_type": "code",
   "execution_count": null,
   "metadata": {},
   "outputs": [],
   "source": [
    "# \\d - digit/number\n",
    "# \\D - Opposite of \\d"
   ]
  },
  {
   "cell_type": "code",
   "execution_count": null,
   "metadata": {},
   "outputs": [],
   "source": [
    "# \\w - alphanumeric\n",
    "# \\W - Non-alphanumeric"
   ]
  },
  {
   "cell_type": "code",
   "execution_count": null,
   "metadata": {},
   "outputs": [],
   "source": [
    "# \\s - Space\n",
    "# \\S - Not a space"
   ]
  }
 ],
 "metadata": {
  "kernelspec": {
   "display_name": "Python 3",
   "language": "python",
   "name": "python3"
  },
  "language_info": {
   "codemirror_mode": {
    "name": "ipython",
    "version": 3
   },
   "file_extension": ".py",
   "mimetype": "text/x-python",
   "name": "python",
   "nbconvert_exporter": "python",
   "pygments_lexer": "ipython3",
   "version": "3.12.3"
  }
 },
 "nbformat": 4,
 "nbformat_minor": 2
}
